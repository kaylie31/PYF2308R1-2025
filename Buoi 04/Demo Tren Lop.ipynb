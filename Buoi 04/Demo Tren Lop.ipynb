{
 "cells": [
  {
   "cell_type": "code",
   "execution_count": 1,
   "id": "629e2ecb-ebf0-4661-b96a-34986b171130",
   "metadata": {},
   "outputs": [
    {
     "ename": "SyntaxError",
     "evalue": "invalid decimal literal (2068378877.py, line 2)",
     "output_type": "error",
     "traceback": [
      "\u001b[0;36m  Cell \u001b[0;32mIn[1], line 2\u001b[0;36m\u001b[0m\n\u001b[0;31m    0anh = 123\u001b[0m\n\u001b[0m    ^\u001b[0m\n\u001b[0;31mSyntaxError\u001b[0m\u001b[0;31m:\u001b[0m invalid decimal literal\n"
     ]
    }
   ],
   "source": [
    "hoTen = \"Nguyen Teo\"\n",
    "0anh = 123"
   ]
  },
  {
   "cell_type": "code",
   "execution_count": null,
   "id": "dc158c8d-f530-47aa-b608-a9c3441e9776",
   "metadata": {},
   "outputs": [],
   "source": [
    "# snake case style of naming variables\n",
    "# ho_ten"
   ]
  },
  {
   "cell_type": "code",
   "execution_count": 2,
   "id": "febf33e2-11c0-4c8e-9697-007279a84a5f",
   "metadata": {},
   "outputs": [
    {
     "name": "stdout",
     "output_type": "stream",
     "text": [
      "<class 'bool'>\n"
     ]
    }
   ],
   "source": [
    "x= True\n",
    "print(type(x))"
   ]
  },
  {
   "cell_type": "code",
   "execution_count": 3,
   "id": "37fcef2e-a4f5-43f2-85ba-8eca01a34d8c",
   "metadata": {},
   "outputs": [
    {
     "name": "stdout",
     "output_type": "stream",
     "text": [
      "120.9 <class 'float'>\n"
     ]
    }
   ],
   "source": [
    "diem = float('120.9')\n",
    "print(diem,type(diem)) "
   ]
  },
  {
   "cell_type": "code",
   "execution_count": 9,
   "id": "053b6ceb-1549-43d2-bedb-9e86d9e1c754",
   "metadata": {},
   "outputs": [
    {
     "name": "stdin",
     "output_type": "stream",
     "text": [
      "Nhap ho va ten Khanh\n"
     ]
    },
    {
     "name": "stdout",
     "output_type": "stream",
     "text": [
      "xin chao Khanh\n"
     ]
    },
    {
     "name": "stdin",
     "output_type": "stream",
     "text": [
      "Nhap nam sinh:  1995\n"
     ]
    },
    {
     "name": "stdout",
     "output_type": "stream",
     "text": [
      "ban 30 tuoi\n"
     ]
    }
   ],
   "source": [
    "ho_ten = input(\"Nhap ho va ten\")\n",
    "print(\"xin chao \" + ho_ten)\n",
    "\n",
    "nam_sinh = input(\"Nhap nam sinh: \")\n",
    "age = 2025-int(nam_sinh)\n",
    "print(\"ban \" + str(age) + \" tuoi\") "
   ]
  },
  {
   "cell_type": "code",
   "execution_count": null,
   "id": "efd4bab0-464d-4482-8329-d98c6b8a378d",
   "metadata": {},
   "outputs": [],
   "source": []
  }
 ],
 "metadata": {
  "kernelspec": {
   "display_name": "Python 3 (ipykernel)",
   "language": "python",
   "name": "python3"
  },
  "language_info": {
   "codemirror_mode": {
    "name": "ipython",
    "version": 3
   },
   "file_extension": ".py",
   "mimetype": "text/x-python",
   "name": "python",
   "nbconvert_exporter": "python",
   "pygments_lexer": "ipython3",
   "version": "3.11.5"
  }
 },
 "nbformat": 4,
 "nbformat_minor": 5
}
